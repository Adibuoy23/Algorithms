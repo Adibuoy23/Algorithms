{
  "nbformat": 4,
  "nbformat_minor": 0,
  "metadata": {
    "colab": {
      "name": "Arrays & Strings.ipynb",
      "provenance": [],
      "toc_visible": true,
      "authorship_tag": "ABX9TyMdu80s+pzAepr0kciCBmE0",
      "include_colab_link": true
    },
    "kernelspec": {
      "name": "python3",
      "display_name": "Python 3"
    }
  },
  "cells": [
    {
      "cell_type": "markdown",
      "metadata": {
        "id": "view-in-github",
        "colab_type": "text"
      },
      "source": [
        "<a href=\"https://colab.research.google.com/github/Adibuoy23/Algorithms/blob/main/Apple/Arrays_%26_Strings.ipynb\" target=\"_parent\"><img src=\"https://colab.research.google.com/assets/colab-badge.svg\" alt=\"Open In Colab\"/></a>"
      ]
    },
    {
      "cell_type": "markdown",
      "metadata": {
        "id": "wttZ-XBepf7o"
      },
      "source": [
        "### 1 Two sum\n",
        "Given an array of integers nums and an integer target, return indices of the two numbers such that they add up to target.\n",
        "\n",
        "You may assume that each input would have exactly one solution, and you may not use the same element twice.\n",
        "\n",
        "You can return the answer in any order.\n",
        "\n",
        "Example 1\n",
        "```\n",
        "Input: nums = [2,7,11,15], target = 9\n",
        "Output: [0,1]\n",
        "Output: Because nums[0] + nums[1] == 9, we return [0, 1].\n",
        "```\n",
        "Example 2\n",
        "```\n",
        "Input: nums = [3,2,4], target = 6\n",
        "Output: [1,2]\n",
        "```\n",
        "\n",
        "Example 3\n",
        "```\n",
        "Input: nums = [3,3], target = 6\n",
        "Output: [0,1]\n",
        "```\n",
        "Constraints:\n",
        "\n",
        "* 2 <= nums.length <= 103\n",
        "* -109 <= nums[i] <= 109\n",
        "* -109 <= target <= 109\n",
        "* Only one valid answer exists."
      ]
    },
    {
      "cell_type": "code",
      "metadata": {
        "id": "XzD0vih9pfpZ"
      },
      "source": [
        "class Solution(object):\n",
        "    def twoSum(self, nums, target):\n",
        "        \"\"\"\n",
        "        :type nums: List[int]\n",
        "        :type target: int\n",
        "        :rtype: List[int]\n",
        "        \"\"\"\n",
        "        if len(nums)==0:\n",
        "          assert len(nums)>0\n",
        "        hash = {}\n",
        "        for i,num in enumerate(nums):\n",
        "          diff = target - num\n",
        "          if diff not in hash:\n",
        "            hash[num] = i\n",
        "          else:\n",
        "            return [hash[diff],i]\n",
        "        \n"
      ],
      "execution_count": 1,
      "outputs": []
    },
    {
      "cell_type": "code",
      "metadata": {
        "colab": {
          "base_uri": "https://localhost:8080/"
        },
        "id": "RnmjmT94pIQi",
        "outputId": "ce4a99fd-9ca0-403b-95cb-ea4f700719d6"
      },
      "source": [
        "sol = Solution()\n",
        "sol.twoSum([3,2,4],6)"
      ],
      "execution_count": 2,
      "outputs": [
        {
          "output_type": "execute_result",
          "data": {
            "text/plain": [
              "[1, 2]"
            ]
          },
          "metadata": {
            "tags": []
          },
          "execution_count": 2
        }
      ]
    },
    {
      "cell_type": "markdown",
      "metadata": {
        "id": "Vqve6Xz-peA6"
      },
      "source": [
        "### 2 Substring search\n",
        "\n",
        "Given a string s, find the length of the longest substring without repeating characters.\n",
        "\n",
        "Example 1\n",
        "```\n",
        "Input: s = \"abcabcbb\"\n",
        "Output: 3\n",
        "Explanation: The answer is \"abc\", with the length of 3.\n",
        "```\n",
        "Example 2\n",
        "```\n",
        "Input: s = \"bbbbb\"\n",
        "Output: 1\n",
        "Explanation: The answer is \"b\", with the length of 1.\n",
        "```\n",
        "Example 3\n",
        "```\n",
        "Input: s = \"pwwkew\"\n",
        "Output: 3\n",
        "Explanation: The answer is \"wke\", with the length of 3.\n",
        "Notice that the answer must be a substring, \"pwke\" is a subsequence and not a substring.\n",
        "```\n",
        "Example 4\n",
        "```\n",
        "Input: s = \"\"\n",
        "Output: 0\n",
        "```\n",
        "\n",
        "Constraints:\n",
        "* 0 <= s.length <= 5 * 104\n",
        "* s consists of English letters, digits, symbols and spaces."
      ]
    },
    {
      "cell_type": "code",
      "metadata": {
        "id": "5kdXVOGO-OiV"
      },
      "source": [
        "class Solution(object):\n",
        "    def lengthOfLongestSubstring(self, s):\n",
        "        \"\"\"\n",
        "        :type s: str\n",
        "        :rtype: int\n",
        "        \"\"\"\n",
        "        out = ''\n",
        "        length = 0\n",
        "        for i in s:\n",
        "            if i not in out:\n",
        "                out += i\n",
        "            else:\n",
        "                out = out.split(i)[1]+i\n",
        "            length = max(length, len(out))\n",
        "        return length"
      ],
      "execution_count": 3,
      "outputs": []
    },
    {
      "cell_type": "code",
      "metadata": {
        "colab": {
          "base_uri": "https://localhost:8080/"
        },
        "id": "s4o-nYJtmEQg",
        "outputId": "1e21d511-0168-4bb5-8a1c-f7ea0d30a843"
      },
      "source": [
        "sol = Solution()\n",
        "sol.lengthOfLongestSubstring('abcabbb')"
      ],
      "execution_count": 4,
      "outputs": [
        {
          "output_type": "execute_result",
          "data": {
            "text/plain": [
              "3"
            ]
          },
          "metadata": {
            "tags": []
          },
          "execution_count": 4
        }
      ]
    },
    {
      "cell_type": "markdown",
      "metadata": {
        "id": "K2d7LSf9nQ6K"
      },
      "source": [
        "### 3 Atoi()\n",
        "\n",
        "Implement the myAtoi(string s) function, which converts a string to a 32-bit signed integer (similar to C/C++'s atoi function).\n",
        "\n",
        "The algorithm for myAtoi(string s) is as follows:\n",
        "\n",
        "Read in and ignore any leading whitespace.\n",
        "\n",
        "\n",
        "\n",
        "\n",
        "1. Check if the next character (if not already at the end of the string) is '-' or '+'. Read this character in if it is either. This determines if the final result is negative or positive respectively. Assume the result is positive if neither is present.\n",
        "2. Read in next the characters until the next non-digit charcter or the end of the input is reached. The rest of the string is ignored.\n",
        "3. Convert these digits into an integer (i.e. \"123\" -> 123, \"0032\" -> 32). If no digits were read, then the integer is 0. Change the sign as necessary (from step 2).\n",
        "4. If the integer is out of the 32-bit signed integer range [-231, 231 - 1], then clamp the integer so that it remains in the range. Specifically, integers less than -231 should be clamped to -231, and integers greater than 231 - 1 should be clamped to 231 - 1.\n",
        "Return the integer as the final result.\n",
        "\n",
        "Note:\n",
        "\n",
        "* Only the space character ' ' is considered a whitespace character.\n",
        "* Do not ignore any characters other than the leading whitespace or the rest of the string after the digits.\n",
        "\n",
        "Example 1\n",
        "```\n",
        "Input: str = \"42\"\n",
        "Output: 42\n",
        "Explanation: The underlined characters are what is read in, the caret is the current reader position.\n",
        "Step 1: \"42\" (no characters read because there is no leading whitespace)\n",
        "         ^\n",
        "Step 2: \"42\" (no characters read because there is neither a '-' nor '+')\n",
        "         ^\n",
        "Step 3: \"42\" (\"42\" is read in)\n",
        "           ^\n",
        "The parsed integer is 42.\n",
        "Since 42 is in the range [-231, 231 - 1], the final result is 42.\n",
        "```\n",
        "\n",
        "Example 2\n",
        "```\n",
        "Input: str = \"   -42\"\n",
        "Output: -42\n",
        "Explanation:\n",
        "Step 1: \"   -42\" (leading whitespace is read and ignored)\n",
        "            ^\n",
        "Step 2: \"   -42\" ('-' is read, so the result should be negative)\n",
        "             ^\n",
        "Step 3: \"   -42\" (\"42\" is read in)\n",
        "               ^\n",
        "The parsed integer is -42.\n",
        "Since -42 is in the range [-231, 231 - 1], the final result is -42.\n",
        "```\n",
        "\n",
        "Example 3\n",
        "```\n",
        "Input: str = \"4193 with words\"\n",
        "Output: 4193\n",
        "Explanation:\n",
        "Step 1: \"4193 with words\" (no characters read because there is no leading whitespace)\n",
        "         ^\n",
        "Step 2: \"4193 with words\" (no characters read because there is neither a '-' nor '+')\n",
        "         ^\n",
        "Step 3: \"4193 with words\" (\"4193\" is read in; reading stops because the next character is a non-digit)\n",
        "             ^\n",
        "The parsed integer is 4193.\n",
        "Since 4193 is in the range [-231, 231 - 1], the final result is 4193.\n",
        "```\n",
        "\n",
        "Example 4\n",
        "```\n",
        "Input: str = \"words and 987\"\n",
        "Output: 0\n",
        "Explanation:\n",
        "Step 1: \"words and 987\" (no characters read because there is no leading whitespace)\n",
        "         ^\n",
        "Step 2: \"words and 987\" (no characters read because there is neither a '-' nor '+')\n",
        "         ^\n",
        "Step 3: \"words and 987\" (reading stops immediately because there is a non-digit 'w')\n",
        "         ^\n",
        "The parsed integer is 0 because no digits were read.\n",
        "Since 0 is in the range [-231, 231 - 1], the final result is 4193.\n",
        "```\n",
        "\n",
        "Example 5\n",
        "```\n",
        "Input: str = \"-91283472332\"\n",
        "Output: -2147483648\n",
        "Explanation:\n",
        "Step 1: \"-91283472332\" (no characters read because there is no leading whitespace)\n",
        "         ^\n",
        "Step 2: \"-91283472332\" ('-' is read, so the result should be negative)\n",
        "          ^\n",
        "Step 3: \"-91283472332\" (\"91283472332\" is read in)\n",
        "                     ^\n",
        "The parsed integer is -91283472332.\n",
        "Since -91283472332 is less than the lower bound of the range [-2^31, 2^31 - 1], the final result is clamped to -2^31 = -2147483648.\n",
        "```\n",
        "Constraints:\n",
        "\n",
        "* 0 <= s.length <= 200\n",
        "* s consists of English letters (lower-case and upper-case), digits (0-9), ' ', '+', '-', and '.'."
      ]
    },
    {
      "cell_type": "code",
      "metadata": {
        "id": "KRBi5NR2mLEW"
      },
      "source": [
        ""
      ],
      "execution_count": 4,
      "outputs": []
    },
    {
      "cell_type": "markdown",
      "metadata": {
        "id": "URWM70DUCqqG"
      },
      "source": [
        "### 4. Integer to Roman\n",
        "\n",
        "Roman numerals are represented by seven different symbols: I, V, X, L, C, D and M.\n",
        "\n",
        "```\n",
        "Symbol       Value\n",
        "I             1\n",
        "V             5\n",
        "X             10\n",
        "L             50\n",
        "C             100\n",
        "D             500\n",
        "M             1000\n",
        "```\n",
        "For example, 2 is written as II in Roman numeral, just two one's added together. 12 is written as XII, which is simply X + II. The number 27 is written as XXVII, which is XX + V + II.\n",
        "\n",
        "Roman numerals are usually written largest to smallest from left to right. However, the numeral for four is not IIII. Instead, the number four is written as IV. Because the one is before the five we subtract it making four. The same principle applies to the number nine, which is written as IX. There are six instances where subtraction is used:\n",
        "\n",
        "I can be placed before V (5) and X (10) to make 4 and 9. \n",
        "X can be placed before L (50) and C (100) to make 40 and 90. \n",
        "C can be placed before D (500) and M (1000) to make 400 and 900.\n",
        "Given an integer, convert it to a roman numeral.\n",
        "\n",
        "Example 1\n",
        "```\n",
        "Input: num = 3\n",
        "Output: \"III\"\n",
        "```\n",
        "\n",
        "Example 2 \n",
        "```\n",
        "Input: num = 4\n",
        "Output: \"IV\"\n",
        "```\n",
        "Example 3\n",
        "```\n",
        "Input: num = 9\n",
        "Output: \"IX\"\n",
        "```\n",
        "Example 4\n",
        "```\n",
        "Input: num = 58\n",
        "Output: \"LVIII\"\n",
        "Explanation: L = 50, V = 5, III = 3.\n",
        "```\n",
        "\n",
        "Example 5\n",
        "```\n",
        "Input: num = 1994\n",
        "Output: \"MCMXCIV\"\n",
        "Explanation: M = 1000, CM = 900, XC = 90 and IV = 4.\n",
        "```\n",
        "\n",
        "Constraints:\n",
        "\n",
        "* 1 <= num <= 3999"
      ]
    },
    {
      "cell_type": "code",
      "metadata": {
        "id": "dGEnUYu7DLq-"
      },
      "source": [
        "class Solution:\n",
        "    def intToRoman(self, num):\n",
        "        hash_map = {1000:'M', 900:'CM', 500:'D', 400:'CD', 100:'C', 90: 'XC', 50:'L', 40:'XL', 10:'X',                      9:'IX', 5:'V', 4:'IV', 1:'I'}\n",
        "        roman = ''\n",
        "        for key,val in hash_map.items():\n",
        "            if num == 0:\n",
        "                break\n",
        "            count, num = divmod(num, key)\n",
        "            if count >0:\n",
        "                roman += val*count\n",
        "        return roman"
      ],
      "execution_count": 7,
      "outputs": []
    },
    {
      "cell_type": "code",
      "metadata": {
        "colab": {
          "base_uri": "https://localhost:8080/",
          "height": 37
        },
        "id": "nRbJp9xdd1v1",
        "outputId": "db3d274f-1cbc-429a-e9a4-b7ca3ee9518f"
      },
      "source": [
        "sol = Solution()\n",
        "sol.intToRoman(458)"
      ],
      "execution_count": 8,
      "outputs": [
        {
          "output_type": "execute_result",
          "data": {
            "application/vnd.google.colaboratory.intrinsic+json": {
              "type": "string"
            },
            "text/plain": [
              "'CDLVIII'"
            ]
          },
          "metadata": {
            "tags": []
          },
          "execution_count": 8
        }
      ]
    },
    {
      "cell_type": "markdown",
      "metadata": {
        "id": "vt1phZPOfWf7"
      },
      "source": [
        "### 5. Roman to Integer"
      ]
    },
    {
      "cell_type": "code",
      "metadata": {
        "id": "aYG396p3d57u"
      },
      "source": [
        "class Solution:\n",
        "    def romanToInt(self, s):\n",
        "        hash_map = {'I':1, 'V':5, 'X':10, 'L':50, 'C':100, 'D':500, 'M':1000}\n",
        "        num = 0\n",
        "        temp = 0\n",
        "        s = s[::-1]\n",
        "        for i in range(len(s)):\n",
        "            if hash_map[s[i]] < temp:\n",
        "                num -= hash_map[s[i]]\n",
        "            else:\n",
        "                num += hash_map[s[i]]\n",
        "            temp = hash_map[s[i]]\n",
        "            \n",
        "        return num"
      ],
      "execution_count": 9,
      "outputs": []
    },
    {
      "cell_type": "code",
      "metadata": {
        "id": "KD1Nvoxh5FYB",
        "outputId": "217b06b0-195e-4d56-ae2e-ab41cb0bf6ce",
        "colab": {
          "base_uri": "https://localhost:8080/"
        }
      },
      "source": [
        "sol = Solution()\n",
        "sol.romanToInt('IV')"
      ],
      "execution_count": 10,
      "outputs": [
        {
          "output_type": "execute_result",
          "data": {
            "text/plain": [
              "4"
            ]
          },
          "metadata": {
            "tags": []
          },
          "execution_count": 10
        }
      ]
    },
    {
      "cell_type": "code",
      "metadata": {
        "id": "INO4JECM5IX8"
      },
      "source": [
        ""
      ],
      "execution_count": null,
      "outputs": []
    }
  ]
}